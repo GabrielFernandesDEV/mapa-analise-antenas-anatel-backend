{
 "cells": [
  {
   "cell_type": "code",
   "execution_count": 4,
   "metadata": {},
   "outputs": [],
   "source": [
    "import folium\n",
    "\n",
    "# Cria o mapa centrado em uma posição e com um zoom inicial\n",
    "m = folium.Map(location=[-15, -55], zoom_start=4)\n",
    "folium.TileLayer('OpenStreetMap').add_to(m)\n",
    "\n",
    "# Recupera o nome da variável do mapa gerada pelo Folium\n",
    "map_name = m.get_name()\n",
    "\n",
    "# Código JavaScript ajustado para rodar somente após o carregamento do DOM\n",
    "vector_tile_layer = f\"\"\"\n",
    "<!-- Inclui o Leaflet.VectorGrid via CDN -->\n",
    "<script src=\"https://unpkg.com/leaflet.vectorgrid/dist/Leaflet.VectorGrid.bundled.js\"></script>\n",
    "<script>\n",
    "document.addEventListener(\"DOMContentLoaded\", function() {{\n",
    "    var vectorTileLayer = L.vectorGrid.protobuf(\"http://localhost:5001/tiles/{{z}}/{{x}}/{{y}}.mvt?schema_name=anatel&table_name=municipios_onde_tem_5g\", {{\n",
    "        vectorTileLayerStyles: {{\n",
    "            \"anatel.municipios_onde_tem_5g\": {{\n",
    "                fill: true,\n",
    "                fillColor: \"#00ff00\",\n",
    "                fillOpacity: 0.5,\n",
    "                stroke: true,\n",
    "                color: \"#000000\",\n",
    "                weight: 1,\n",
    "                opacity: 1\n",
    "            }}\n",
    "        }},\n",
    "        maxZoom: 22,\n",
    "        getFeatureId: function(feature) {{\n",
    "            return feature.properties.id;\n",
    "        }}\n",
    "    }}).addTo({map_name});\n",
    "}});\n",
    "</script>\n",
    "\"\"\"\n",
    "\n",
    "# Adiciona o script ao HTML gerado pelo Folium\n",
    "m.get_root().html.add_child(folium.Element(vector_tile_layer))\n",
    "\n",
    "# Salva o mapa em um arquivo HTML\n",
    "m.save(\"mapa_vector.html\")\n"
   ]
  }
 ],
 "metadata": {
  "kernelspec": {
   "display_name": "base",
   "language": "python",
   "name": "python3"
  },
  "language_info": {
   "codemirror_mode": {
    "name": "ipython",
    "version": 3
   },
   "file_extension": ".py",
   "mimetype": "text/x-python",
   "name": "python",
   "nbconvert_exporter": "python",
   "pygments_lexer": "ipython3",
   "version": "3.11.5"
  }
 },
 "nbformat": 4,
 "nbformat_minor": 2
}
